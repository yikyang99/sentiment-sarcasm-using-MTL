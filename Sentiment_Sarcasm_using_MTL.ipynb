{
  "nbformat": 4,
  "nbformat_minor": 0,
  "metadata": {
    "kernelspec": {
      "display_name": "Python 3",
      "language": "python",
      "name": "python3"
    },
    "language_info": {
      "codemirror_mode": {
        "name": "ipython",
        "version": 3
      },
      "file_extension": ".py",
      "mimetype": "text/x-python",
      "name": "python",
      "nbconvert_exporter": "python",
      "pygments_lexer": "ipython3",
      "version": "3.8.3"
    },
    "colab": {
      "provenance": []
    },
    "accelerator": "GPU"
  },
  "cells": [
    {
      "cell_type": "markdown",
      "metadata": {
        "id": "hBAU2iT4R2hm"
      },
      "source": [
        "**Import libraries**\n"
      ]
    },
    {
      "cell_type": "code",
      "metadata": {
        "colab": {
          "base_uri": "https://localhost:8080/"
        },
        "id": "XlXijL3kaf3h",
        "outputId": "129df0fa-40de-4e8c-9837-ebc69d364f02"
      },
      "source": [
        "import re\n",
        "import matplotlib.pyplot as plt\n",
        "import string\n",
        "from nltk.corpus import stopwords\n",
        "import nltk\n",
        "from nltk.corpus import wordnet\n",
        "from nltk.stem import WordNetLemmatizer\n",
        "from nltk.tokenize.treebank import TreebankWordDetokenizer\n",
        "from collections import Counter\n",
        "from wordcloud import WordCloud\n",
        "from gensim.utils import simple_preprocess\n",
        "import gensim\n",
        "from sklearn.model_selection import train_test_split\n",
        "import pickle\n",
        "import warnings\n",
        "warnings.filterwarnings('ignore')\n",
        "import seaborn as sns\n",
        "from sklearn.metrics import confusion_matrix\n",
        "import matplotlib.pyplot as plt \n",
        "import tensorflow as tf\n",
        "import keras\n",
        "import numpy as np\n",
        "import pandas as pd\n",
        "from sklearn.utils import resample\n",
        "from sklearn.utils import shuffle\n",
        "from sklearn.metrics import classification_report,confusion_matrix,accuracy_score\n",
        "from nltk.stem.porter import PorterStemmer\n",
        "stemmer = PorterStemmer()\n",
        "nltk.download('stopwords')\n",
        "stopwords_english = stopwords.words('english')"
      ],
      "execution_count": null,
      "outputs": [
        {
          "output_type": "stream",
          "text": [
            "[nltk_data] Downloading package stopwords to /root/nltk_data...\n",
            "[nltk_data]   Package stopwords is already up-to-date!\n"
          ],
          "name": "stdout"
        }
      ]
    },
    {
      "cell_type": "code",
      "metadata": {
        "id": "w_eOvcx4af3o"
      },
      "source": [
        "from keras.models import Sequential\n",
        "from keras import layers \n",
        "from keras.optimizers import RMSprop,Adam\n",
        "from keras.preprocessing.text import Tokenizer\n",
        "from keras.preprocessing.sequence import pad_sequences\n",
        "from keras import regularizers\n",
        "from keras import backend as K\n",
        "from keras.callbacks import ModelCheckpoint\n",
        "from keras.models import Model\n",
        "\n",
        "from IPython.display import Image, clear_output"
      ],
      "execution_count": null,
      "outputs": []
    },
    {
      "cell_type": "code",
      "metadata": {
        "id": "z_oIHQoGZfqc"
      },
      "source": [
        "def convert(integer):\n",
        "    if (integer == 'positive'):\n",
        "        return 1\n",
        "    elif (integer == 'negative'):\n",
        "        return -1\n",
        "    elif (integer == 'neutral'):\n",
        "        return 0"
      ],
      "execution_count": null,
      "outputs": []
    },
    {
      "cell_type": "markdown",
      "metadata": {
        "id": "gEw3pNDNSAk5"
      },
      "source": [
        "**Load Dataset (Load your dataset here)**"
      ]
    },
    {
      "cell_type": "code",
      "metadata": {
        "colab": {
          "base_uri": "https://localhost:8080/",
          "height": 419
        },
        "id": "zdAnFmCRoqjG",
        "outputId": "df74faa0-b425-4c96-a171-3319f7180165"
      },
      "source": [
        "df_sarcasm1 = pd.read_csv('/content/drive/MyDrive/FYP/Sarcasm_Headlines_Dataset_v2.csv')\n",
        "df_sarcasm1 = df_sarcasm1.rename(columns={'headline': 'clean_comment', 'is_sarcastic':'label'})\n",
        "df_sarcasm1 = df_sarcasm1[['label', 'clean_comment']]\n",
        "df_sarcasm1"
      ],
      "execution_count": null,
      "outputs": [
        {
          "output_type": "execute_result",
          "data": {
            "text/html": [
              "<div>\n",
              "<style scoped>\n",
              "    .dataframe tbody tr th:only-of-type {\n",
              "        vertical-align: middle;\n",
              "    }\n",
              "\n",
              "    .dataframe tbody tr th {\n",
              "        vertical-align: top;\n",
              "    }\n",
              "\n",
              "    .dataframe thead th {\n",
              "        text-align: right;\n",
              "    }\n",
              "</style>\n",
              "<table border=\"1\" class=\"dataframe\">\n",
              "  <thead>\n",
              "    <tr style=\"text-align: right;\">\n",
              "      <th></th>\n",
              "      <th>label</th>\n",
              "      <th>clean_comment</th>\n",
              "    </tr>\n",
              "  </thead>\n",
              "  <tbody>\n",
              "    <tr>\n",
              "      <th>0</th>\n",
              "      <td>1</td>\n",
              "      <td>thirtysomething scientists unveil doomsday clo...</td>\n",
              "    </tr>\n",
              "    <tr>\n",
              "      <th>1</th>\n",
              "      <td>0</td>\n",
              "      <td>dem rep. totally nails why congress is falling...</td>\n",
              "    </tr>\n",
              "    <tr>\n",
              "      <th>2</th>\n",
              "      <td>0</td>\n",
              "      <td>eat your veggies: 9 deliciously different recipes</td>\n",
              "    </tr>\n",
              "    <tr>\n",
              "      <th>3</th>\n",
              "      <td>1</td>\n",
              "      <td>inclement weather prevents liar from getting t...</td>\n",
              "    </tr>\n",
              "    <tr>\n",
              "      <th>4</th>\n",
              "      <td>1</td>\n",
              "      <td>mother comes pretty close to using word 'strea...</td>\n",
              "    </tr>\n",
              "    <tr>\n",
              "      <th>...</th>\n",
              "      <td>...</td>\n",
              "      <td>...</td>\n",
              "    </tr>\n",
              "    <tr>\n",
              "      <th>28614</th>\n",
              "      <td>1</td>\n",
              "      <td>jews to celebrate rosh hashasha or something</td>\n",
              "    </tr>\n",
              "    <tr>\n",
              "      <th>28615</th>\n",
              "      <td>1</td>\n",
              "      <td>internal affairs investigator disappointed con...</td>\n",
              "    </tr>\n",
              "    <tr>\n",
              "      <th>28616</th>\n",
              "      <td>0</td>\n",
              "      <td>the most beautiful acceptance speech this week...</td>\n",
              "    </tr>\n",
              "    <tr>\n",
              "      <th>28617</th>\n",
              "      <td>1</td>\n",
              "      <td>mars probe destroyed by orbiting spielberg-gat...</td>\n",
              "    </tr>\n",
              "    <tr>\n",
              "      <th>28618</th>\n",
              "      <td>1</td>\n",
              "      <td>dad clarifies this not a food stop</td>\n",
              "    </tr>\n",
              "  </tbody>\n",
              "</table>\n",
              "<p>28619 rows × 2 columns</p>\n",
              "</div>"
            ],
            "text/plain": [
              "       label                                      clean_comment\n",
              "0          1  thirtysomething scientists unveil doomsday clo...\n",
              "1          0  dem rep. totally nails why congress is falling...\n",
              "2          0  eat your veggies: 9 deliciously different recipes\n",
              "3          1  inclement weather prevents liar from getting t...\n",
              "4          1  mother comes pretty close to using word 'strea...\n",
              "...      ...                                                ...\n",
              "28614      1       jews to celebrate rosh hashasha or something\n",
              "28615      1  internal affairs investigator disappointed con...\n",
              "28616      0  the most beautiful acceptance speech this week...\n",
              "28617      1  mars probe destroyed by orbiting spielberg-gat...\n",
              "28618      1                 dad clarifies this not a food stop\n",
              "\n",
              "[28619 rows x 2 columns]"
            ]
          },
          "metadata": {
            "tags": []
          },
          "execution_count": 14
        }
      ]
    },
    {
      "cell_type": "code",
      "metadata": {
        "colab": {
          "base_uri": "https://localhost:8080/",
          "height": 419
        },
        "id": "G4LXlC1iaf3p",
        "outputId": "13bcc3a7-4c89-4d80-9f39-3d6d51ec4161"
      },
      "source": [
        "df_sarcasm = pd.read_csv('/content/drive/MyDrive/FYP/sarcasm data/train_sarcasm.csv')\n",
        "df_sarcasm = df_sarcasm[['label', 'tweet']]\n",
        "df_sarcasm = df_sarcasm.rename(columns={'tweet': 'clean_comment'})\n",
        "#df_sarcasm = df_sarcasm[['is_sarcastic', 'headline']]\n",
        "df_sarcasm = pd.concat([df_sarcasm,df_sarcasm1])\n",
        "df_sarcasm = df_sarcasm.dropna()\n",
        "df_sarcasm"
      ],
      "execution_count": null,
      "outputs": [
        {
          "output_type": "execute_result",
          "data": {
            "text/html": [
              "<div>\n",
              "<style scoped>\n",
              "    .dataframe tbody tr th:only-of-type {\n",
              "        vertical-align: middle;\n",
              "    }\n",
              "\n",
              "    .dataframe tbody tr th {\n",
              "        vertical-align: top;\n",
              "    }\n",
              "\n",
              "    .dataframe thead th {\n",
              "        text-align: right;\n",
              "    }\n",
              "</style>\n",
              "<table border=\"1\" class=\"dataframe\">\n",
              "  <thead>\n",
              "    <tr style=\"text-align: right;\">\n",
              "      <th></th>\n",
              "      <th>label</th>\n",
              "      <th>clean_comment</th>\n",
              "    </tr>\n",
              "  </thead>\n",
              "  <tbody>\n",
              "    <tr>\n",
              "      <th>0</th>\n",
              "      <td>1</td>\n",
              "      <td>It feels like just a few days ago it was the l...</td>\n",
              "    </tr>\n",
              "    <tr>\n",
              "      <th>1</th>\n",
              "      <td>1</td>\n",
              "      <td>I love my mom . No matter what we go through ,...</td>\n",
              "    </tr>\n",
              "    <tr>\n",
              "      <th>2</th>\n",
              "      <td>1</td>\n",
              "      <td>Bump that music ... #imtryingtosleep #sarcasm</td>\n",
              "    </tr>\n",
              "    <tr>\n",
              "      <th>3</th>\n",
              "      <td>0</td>\n",
              "      <td>Mexican and black jokes are pretty much the sa...</td>\n",
              "    </tr>\n",
              "    <tr>\n",
              "      <th>4</th>\n",
              "      <td>0</td>\n",
              "      <td>How to find work you love :</td>\n",
              "    </tr>\n",
              "    <tr>\n",
              "      <th>...</th>\n",
              "      <td>...</td>\n",
              "      <td>...</td>\n",
              "    </tr>\n",
              "    <tr>\n",
              "      <th>28614</th>\n",
              "      <td>1</td>\n",
              "      <td>jews to celebrate rosh hashasha or something</td>\n",
              "    </tr>\n",
              "    <tr>\n",
              "      <th>28615</th>\n",
              "      <td>1</td>\n",
              "      <td>internal affairs investigator disappointed con...</td>\n",
              "    </tr>\n",
              "    <tr>\n",
              "      <th>28616</th>\n",
              "      <td>0</td>\n",
              "      <td>the most beautiful acceptance speech this week...</td>\n",
              "    </tr>\n",
              "    <tr>\n",
              "      <th>28617</th>\n",
              "      <td>1</td>\n",
              "      <td>mars probe destroyed by orbiting spielberg-gat...</td>\n",
              "    </tr>\n",
              "    <tr>\n",
              "      <th>28618</th>\n",
              "      <td>1</td>\n",
              "      <td>dad clarifies this not a food stop</td>\n",
              "    </tr>\n",
              "  </tbody>\n",
              "</table>\n",
              "<p>50722 rows × 2 columns</p>\n",
              "</div>"
            ],
            "text/plain": [
              "       label                                      clean_comment\n",
              "0          1  It feels like just a few days ago it was the l...\n",
              "1          1  I love my mom . No matter what we go through ,...\n",
              "2          1      Bump that music ... #imtryingtosleep #sarcasm\n",
              "3          0  Mexican and black jokes are pretty much the sa...\n",
              "4          0                        How to find work you love :\n",
              "...      ...                                                ...\n",
              "28614      1       jews to celebrate rosh hashasha or something\n",
              "28615      1  internal affairs investigator disappointed con...\n",
              "28616      0  the most beautiful acceptance speech this week...\n",
              "28617      1  mars probe destroyed by orbiting spielberg-gat...\n",
              "28618      1                 dad clarifies this not a food stop\n",
              "\n",
              "[50722 rows x 2 columns]"
            ]
          },
          "metadata": {
            "tags": []
          },
          "execution_count": 15
        }
      ]
    },
    {
      "cell_type": "code",
      "metadata": {
        "id": "6ggQWdDL2nho",
        "colab": {
          "base_uri": "https://localhost:8080/",
          "height": 419
        },
        "outputId": "d27e86c2-aca4-41d4-8476-2f764d65fbbd"
      },
      "source": [
        "reddit_data = pd.read_csv('/content/drive/MyDrive/FYP/test data/Reddit_Data.csv')\n",
        "twitter_data = pd.read_csv('/content/drive/MyDrive/FYP/test data/Twitter_Data.csv')\n",
        "twitter_data = twitter_data.rename(columns={'clean_text': 'clean_comment'})\n",
        "df_sentiment = pd.concat([reddit_data,twitter_data])\n",
        "df_sentiment = df_sentiment.rename(columns={'category': 'label'})\n",
        "df_sentiment = df_sentiment.dropna()\n",
        "df_sentiment"
      ],
      "execution_count": null,
      "outputs": [
        {
          "output_type": "execute_result",
          "data": {
            "text/html": [
              "<div>\n",
              "<style scoped>\n",
              "    .dataframe tbody tr th:only-of-type {\n",
              "        vertical-align: middle;\n",
              "    }\n",
              "\n",
              "    .dataframe tbody tr th {\n",
              "        vertical-align: top;\n",
              "    }\n",
              "\n",
              "    .dataframe thead th {\n",
              "        text-align: right;\n",
              "    }\n",
              "</style>\n",
              "<table border=\"1\" class=\"dataframe\">\n",
              "  <thead>\n",
              "    <tr style=\"text-align: right;\">\n",
              "      <th></th>\n",
              "      <th>clean_comment</th>\n",
              "      <th>label</th>\n",
              "    </tr>\n",
              "  </thead>\n",
              "  <tbody>\n",
              "    <tr>\n",
              "      <th>0</th>\n",
              "      <td>family mormon have never tried explain them t...</td>\n",
              "      <td>1.0</td>\n",
              "    </tr>\n",
              "    <tr>\n",
              "      <th>1</th>\n",
              "      <td>buddhism has very much lot compatible with chr...</td>\n",
              "      <td>1.0</td>\n",
              "    </tr>\n",
              "    <tr>\n",
              "      <th>2</th>\n",
              "      <td>seriously don say thing first all they won get...</td>\n",
              "      <td>-1.0</td>\n",
              "    </tr>\n",
              "    <tr>\n",
              "      <th>3</th>\n",
              "      <td>what you have learned yours and only yours wha...</td>\n",
              "      <td>0.0</td>\n",
              "    </tr>\n",
              "    <tr>\n",
              "      <th>4</th>\n",
              "      <td>for your own benefit you may want read living ...</td>\n",
              "      <td>1.0</td>\n",
              "    </tr>\n",
              "    <tr>\n",
              "      <th>...</th>\n",
              "      <td>...</td>\n",
              "      <td>...</td>\n",
              "    </tr>\n",
              "    <tr>\n",
              "      <th>162975</th>\n",
              "      <td>why these 456 crores paid neerav modi not reco...</td>\n",
              "      <td>-1.0</td>\n",
              "    </tr>\n",
              "    <tr>\n",
              "      <th>162976</th>\n",
              "      <td>dear rss terrorist payal gawar what about modi...</td>\n",
              "      <td>-1.0</td>\n",
              "    </tr>\n",
              "    <tr>\n",
              "      <th>162977</th>\n",
              "      <td>did you cover her interaction forum where she ...</td>\n",
              "      <td>0.0</td>\n",
              "    </tr>\n",
              "    <tr>\n",
              "      <th>162978</th>\n",
              "      <td>there big project came into india modi dream p...</td>\n",
              "      <td>0.0</td>\n",
              "    </tr>\n",
              "    <tr>\n",
              "      <th>162979</th>\n",
              "      <td>have you ever listen about like gurukul where ...</td>\n",
              "      <td>1.0</td>\n",
              "    </tr>\n",
              "  </tbody>\n",
              "</table>\n",
              "<p>200118 rows × 2 columns</p>\n",
              "</div>"
            ],
            "text/plain": [
              "                                            clean_comment  label\n",
              "0        family mormon have never tried explain them t...    1.0\n",
              "1       buddhism has very much lot compatible with chr...    1.0\n",
              "2       seriously don say thing first all they won get...   -1.0\n",
              "3       what you have learned yours and only yours wha...    0.0\n",
              "4       for your own benefit you may want read living ...    1.0\n",
              "...                                                   ...    ...\n",
              "162975  why these 456 crores paid neerav modi not reco...   -1.0\n",
              "162976  dear rss terrorist payal gawar what about modi...   -1.0\n",
              "162977  did you cover her interaction forum where she ...    0.0\n",
              "162978  there big project came into india modi dream p...    0.0\n",
              "162979  have you ever listen about like gurukul where ...    1.0\n",
              "\n",
              "[200118 rows x 2 columns]"
            ]
          },
          "metadata": {
            "tags": []
          },
          "execution_count": 16
        }
      ]
    },
    {
      "cell_type": "code",
      "metadata": {
        "colab": {
          "base_uri": "https://localhost:8080/",
          "height": 419
        },
        "id": "QSiM-ALro2P1",
        "outputId": "d5ae187f-b4c6-47b1-d6a5-3fab4995ddb2"
      },
      "source": [
        "data_sentiment = pd.read_csv('/content/drive/MyDrive/FYP/train.csv')\n",
        "data_sentiment = data_sentiment[['text.1', 'sentiment']]\n",
        "data_sentiment = data_sentiment.rename(columns={'text.1': 'clean_comment'})\n",
        "data_sentiment['clean_comment'].fillna('No content', inplace = True)\n",
        "data_sentiment = data_sentiment.rename(columns={'sentiment': 'label'})\n",
        "data_sentiment['label'] = data_sentiment['label'].apply(convert)\n",
        "df_sentiment = pd.concat([df_sentiment,data_sentiment])\n",
        "df_sentiment = df_sentiment.dropna()\n",
        "df_sentiment"
      ],
      "execution_count": null,
      "outputs": [
        {
          "output_type": "execute_result",
          "data": {
            "text/html": [
              "<div>\n",
              "<style scoped>\n",
              "    .dataframe tbody tr th:only-of-type {\n",
              "        vertical-align: middle;\n",
              "    }\n",
              "\n",
              "    .dataframe tbody tr th {\n",
              "        vertical-align: top;\n",
              "    }\n",
              "\n",
              "    .dataframe thead th {\n",
              "        text-align: right;\n",
              "    }\n",
              "</style>\n",
              "<table border=\"1\" class=\"dataframe\">\n",
              "  <thead>\n",
              "    <tr style=\"text-align: right;\">\n",
              "      <th></th>\n",
              "      <th>clean_comment</th>\n",
              "      <th>label</th>\n",
              "    </tr>\n",
              "  </thead>\n",
              "  <tbody>\n",
              "    <tr>\n",
              "      <th>0</th>\n",
              "      <td>family mormon have never tried explain them t...</td>\n",
              "      <td>1.0</td>\n",
              "    </tr>\n",
              "    <tr>\n",
              "      <th>1</th>\n",
              "      <td>buddhism has very much lot compatible with chr...</td>\n",
              "      <td>1.0</td>\n",
              "    </tr>\n",
              "    <tr>\n",
              "      <th>2</th>\n",
              "      <td>seriously don say thing first all they won get...</td>\n",
              "      <td>-1.0</td>\n",
              "    </tr>\n",
              "    <tr>\n",
              "      <th>3</th>\n",
              "      <td>what you have learned yours and only yours wha...</td>\n",
              "      <td>0.0</td>\n",
              "    </tr>\n",
              "    <tr>\n",
              "      <th>4</th>\n",
              "      <td>for your own benefit you may want read living ...</td>\n",
              "      <td>1.0</td>\n",
              "    </tr>\n",
              "    <tr>\n",
              "      <th>...</th>\n",
              "      <td>...</td>\n",
              "      <td>...</td>\n",
              "    </tr>\n",
              "    <tr>\n",
              "      <th>27477</th>\n",
              "      <td>d lost</td>\n",
              "      <td>-1.0</td>\n",
              "    </tr>\n",
              "    <tr>\n",
              "      <th>27478</th>\n",
              "      <td>, don`t force</td>\n",
              "      <td>-1.0</td>\n",
              "    </tr>\n",
              "    <tr>\n",
              "      <th>27479</th>\n",
              "      <td>Yay good for both of you.</td>\n",
              "      <td>1.0</td>\n",
              "    </tr>\n",
              "    <tr>\n",
              "      <th>27480</th>\n",
              "      <td>But it was worth it  ****.</td>\n",
              "      <td>1.0</td>\n",
              "    </tr>\n",
              "    <tr>\n",
              "      <th>27481</th>\n",
              "      <td>All this flirting going on - The ATG smiles. Y...</td>\n",
              "      <td>0.0</td>\n",
              "    </tr>\n",
              "  </tbody>\n",
              "</table>\n",
              "<p>227600 rows × 2 columns</p>\n",
              "</div>"
            ],
            "text/plain": [
              "                                           clean_comment  label\n",
              "0       family mormon have never tried explain them t...    1.0\n",
              "1      buddhism has very much lot compatible with chr...    1.0\n",
              "2      seriously don say thing first all they won get...   -1.0\n",
              "3      what you have learned yours and only yours wha...    0.0\n",
              "4      for your own benefit you may want read living ...    1.0\n",
              "...                                                  ...    ...\n",
              "27477                                             d lost   -1.0\n",
              "27478                                      , don`t force   -1.0\n",
              "27479                          Yay good for both of you.    1.0\n",
              "27480                         But it was worth it  ****.    1.0\n",
              "27481  All this flirting going on - The ATG smiles. Y...    0.0\n",
              "\n",
              "[227600 rows x 2 columns]"
            ]
          },
          "metadata": {
            "tags": []
          },
          "execution_count": 17
        }
      ]
    },
    {
      "cell_type": "markdown",
      "metadata": {
        "id": "0G4SAOYISGot"
      },
      "source": [
        "**Upsample dataset**"
      ]
    },
    {
      "cell_type": "code",
      "metadata": {
        "colab": {
          "base_uri": "https://localhost:8080/"
        },
        "id": "_vg9IA_HKe20",
        "outputId": "6b0ae599-eef4-4037-dc24-222b6616a1c3"
      },
      "source": [
        "# Separate majority and minority classes\n",
        "data_majority = df_sentiment[df_sentiment['label'] == 1]\n",
        "data_minority = df_sentiment[df_sentiment['label'] == -1]\n",
        "data_minority2 = df_sentiment[df_sentiment['label'] == 0]\n",
        "\n",
        "print(len(data_majority))\n",
        "print(len(data_minority))\n",
        "print(len(data_minority2))\n",
        "\n",
        "bias = data_minority.shape[0]/data_majority.shape[0]\n",
        "# lets split train/test data first then \n",
        "train = pd.concat([data_majority.sample(frac=1,random_state=200),\n",
        "         data_minority.sample(frac=1,random_state=200),data_minority2.sample(frac=1,random_state=200)])\n",
        "#test = pd.concat([data_majority.drop(data_majority.sample(frac=0.8,random_state=200).index),\n",
        "       # data_minority.drop(data_minority.sample(frac=0.8,random_state=200).index)])\n",
        "\n",
        "#train = shuffle(train)\n",
        "#test = shuffle(test)\n",
        "\n",
        "print('positive data in training:',(train.label == 1).sum())\n",
        "print('negative data in training:',(train.label == -1).sum())\n",
        "print('neutral data in training:',(train.label == 0).sum())\n",
        "#print('positive data in test:',(test.label == 1).sum())\n",
        "#print('negative data in test:',(test.label == 0).sum())\n",
        "\n",
        "# Separate majority and minority classes in training data for upsampling \n",
        "data_majority = train[train['label'] == 1]\n",
        "data_minority = train[train['label'] == -1]\n",
        "data_minority2 = train[train['label'] == 0]\n",
        "\n",
        "print(\"majority class before upsample:\",data_majority.shape)\n",
        "print(\"minority class before upsample:\",data_minority.shape)\n",
        "print(\"minority class2 before upsample:\",data_minority2.shape)\n",
        "\n",
        "# Upsample minority class\n",
        "data_minority_upsampled = resample(data_minority, \n",
        "                                 replace=True,     # sample with replacement\n",
        "                                 n_samples= data_majority.shape[0],    # to match majority class\n",
        "                                 random_state=123) # reproducible results\n",
        "data_minority_upsampled2 = resample(data_minority2, \n",
        "                                 replace=True,     # sample with replacement\n",
        "                                 n_samples= data_majority.shape[0],    # to match majority class\n",
        "                                 random_state=123) # reproducible results\n",
        "# Combine majority class with upsampled minority class\n",
        "data_upsampled_sentiment = pd.concat([data_majority, data_minority_upsampled, data_minority_upsampled2])\n",
        " \n",
        "# Display new class counts\n",
        "print(\"After upsampling\\n\",data_upsampled_sentiment.label.value_counts(),sep = \"\")\n"
      ],
      "execution_count": null,
      "outputs": [
        {
          "output_type": "stream",
          "text": [
            "96662\n",
            "51567\n",
            "79371\n",
            "positive data in training: 96662\n",
            "negative data in training: 51567\n",
            "neutral data in training: 79371\n",
            "majority class before upsample: (96662, 2)\n",
            "minority class before upsample: (51567, 2)\n",
            "minority class2 before upsample: (79371, 2)\n",
            "After upsampling\n",
            "-1.0    96662\n",
            " 0.0    96662\n",
            " 1.0    96662\n",
            "Name: label, dtype: int64\n"
          ],
          "name": "stdout"
        }
      ]
    },
    {
      "cell_type": "code",
      "metadata": {
        "colab": {
          "base_uri": "https://localhost:8080/"
        },
        "id": "yRaXSas2acvS",
        "outputId": "4c12d0a4-b99d-4a13-8a1d-cc903d18c692"
      },
      "source": [
        "# Separate majority and minority classes\n",
        "data_majority = df_sarcasm[df_sarcasm['label'] == 0]\n",
        "data_minority = df_sarcasm[df_sarcasm['label'] == 1]\n",
        "\n",
        "print(len(data_majority))\n",
        "print(len(data_minority))\n",
        "\n",
        "bias = data_minority.shape[0]/data_majority.shape[0]\n",
        "# lets split train/test data first then \n",
        "train = pd.concat([data_majority.sample(frac=1,random_state=200),\n",
        "         data_minority.sample(frac=1,random_state=200)])\n",
        "#test = pd.concat([data_majority.drop(data_majority.sample(frac=0.8,random_state=200).index),\n",
        "       # data_minority.drop(data_minority.sample(frac=0.8,random_state=200).index)])\n",
        "\n",
        "#train = shuffle(train)\n",
        "#test = shuffle(test)\n",
        "\n",
        "print('Not sarcastic data in training:',(train.label == 0).sum())\n",
        "print('sarcastic data in training:',(train.label == 1).sum())\n",
        "#print('positive data in test:',(test.label == 1).sum())\n",
        "#print('negative data in test:',(test.label == 0).sum())\n",
        "\n",
        "# Separate majority and minority classes in training data for upsampling \n",
        "data_majority = train[train['label'] == 0]\n",
        "data_minority = train[train['label'] == 1]\n",
        "\n",
        "\n",
        "print(\"majority class before upsample:\",data_majority.shape)\n",
        "print(\"minority class before upsample:\",data_minority.shape)\n",
        "\n",
        "# Upsample minority class\n",
        "data_minority_upsampled = resample(data_minority, \n",
        "                                 replace=True,     # sample with replacement\n",
        "                                 n_samples= data_majority.shape[0],    # to match majority class\n",
        "                                 random_state=123) # reproducible results\n",
        "\n",
        "# Combine majority class with upsampled minority class\n",
        "data_upsampled_sarcasm = pd.concat([data_majority, data_minority_upsampled])\n",
        " \n",
        "# Display new class counts\n",
        "print(\"After upsampling\\n\",data_upsampled_sarcasm.label.value_counts(),sep = \"\")\n"
      ],
      "execution_count": null,
      "outputs": [
        {
          "output_type": "stream",
          "text": [
            "27326\n",
            "23396\n",
            "Not sarcastic data in training: 27326\n",
            "sarcastic data in training: 23396\n",
            "majority class before upsample: (27326, 2)\n",
            "minority class before upsample: (23396, 2)\n",
            "After upsampling\n",
            "1    27326\n",
            "0    27326\n",
            "Name: label, dtype: int64\n"
          ],
          "name": "stdout"
        }
      ]
    },
    {
      "cell_type": "markdown",
      "metadata": {
        "id": "KxD4YDy5SPzA"
      },
      "source": [
        "**Visualize Data**"
      ]
    },
    {
      "cell_type": "code",
      "metadata": {
        "id": "C-6TPDovaf3q",
        "colab": {
          "base_uri": "https://localhost:8080/",
          "height": 297
        },
        "outputId": "58981e75-aa2f-47b6-9f5b-f3dade672c25"
      },
      "source": [
        "sns.set_style(\"dark\")\n",
        "#sns.countplot(df_sarcasm.is_sarcastic)\n",
        "sns.countplot(data_upsampled_sentiment.label)"
      ],
      "execution_count": null,
      "outputs": [
        {
          "output_type": "execute_result",
          "data": {
            "text/plain": [
              "<matplotlib.axes._subplots.AxesSubplot at 0x7fd26a528c50>"
            ]
          },
          "metadata": {
            "tags": []
          },
          "execution_count": 21
        },
        {
          "output_type": "display_data",
          "data": {
            "image/png": "[encoded data removed]",
            "text/plain": [
              "<Figure size 432x288 with 1 Axes>"
            ]
          },
          "metadata": {
            "tags": []
          }
        }
      ]
    },
    {
      "cell_type": "code",
      "metadata": {
        "id": "-nBe9aZRpvKb",
        "colab": {
          "base_uri": "https://localhost:8080/",
          "height": 296
        },
        "outputId": "6882a72b-c27b-4a31-f932-0e4a83503147"
      },
      "source": [
        "sns.set_style(\"dark\")\n",
        "sns.countplot(data_upsampled_sarcasm.label)"
      ],
      "execution_count": null,
      "outputs": [
        {
          "output_type": "execute_result",
          "data": {
            "text/plain": [
              "<matplotlib.axes._subplots.AxesSubplot at 0x7fd25ed0c950>"
            ]
          },
          "metadata": {
            "tags": []
          },
          "execution_count": 22
        },
        {
          "output_type": "display_data",
          "data": {
            "image/png": "[encoded data removed]",
            "text/plain": [
              "<Figure size 432x288 with 1 Axes>"
            ]
          },
          "metadata": {
            "tags": []
          }
        }
      ]
    },
    {
      "cell_type": "markdown",
      "metadata": {
        "id": "X11tK0Q2STtx"
      },
      "source": [
        "**Data Pre-process**"
      ]
    },
    {
      "cell_type": "code",
      "metadata": {
        "id": "8TirRj2faf3r"
      },
      "source": [
        "\n",
        "def depure_data(data):\n",
        "    #Removing URLs with a regular expression\n",
        "    url_pattern = re.compile(r'https?://\\S+|www\\.\\S+')\n",
        "    data = url_pattern.sub(r'', data)\n",
        "\n",
        "    # Remove Emails\n",
        "    data = re.sub('\\S*@\\S*\\s?', '', data)\n",
        "\n",
        "    # Remove new line characters\n",
        "    data = re.sub('\\s+', ' ', data)\n",
        "\n",
        "    # Remove distracting single quotes\n",
        "    data = re.sub(\"\\'\", \"\", data)\n",
        "        \n",
        "    return data\n",
        "\n",
        "def sent_to_words(sentences):\n",
        "    for sentence in sentences:\n",
        "        yield gensim.utils.simple_preprocess(str(sentence), deacc=True)  # deacc=True removes punctuations\n",
        "\n",
        "def preprocess(tweet, remove_stopwords=True, lemmatize=True):\n",
        "    temp = [] \n",
        "    # Splitting pd.Series to list\n",
        "    data_to_list = tweet['clean_comment'].values.tolist()\n",
        "    for i in range(len(data_to_list)):\n",
        "        temp.append(depure_data(data_to_list[i]))  \n",
        "    data_words = list(sent_to_words(temp))\n",
        "    # Remove stopwords\n",
        "    if remove_stopwords:\n",
        "        data_words = [[word for word in doc if word not in gensim.parsing.preprocessing.STOPWORDS] for doc in data_words]\n",
        "    \n",
        "    # Lemmatize words\n",
        "    if lemmatize:\n",
        "        lemmatizer = WordNetLemmatizer()\n",
        "        data_words = [[lemmatizer.lemmatize(word) for word in doc] for doc in data_words]\n",
        "        \n",
        "    data = []\n",
        "    for i in range(len(data_words)):\n",
        "        data.append(TreebankWordDetokenizer().detokenize(data_words[i]))\n",
        "    del data_words, temp, i\n",
        "    return data\n"
      ],
      "execution_count": null,
      "outputs": []
    },
    {
      "cell_type": "code",
      "metadata": {
        "id": "ofb6SYZuaf3s"
      },
      "source": [
        "sarcasm_data = preprocess(data_upsampled_sarcasm)\n",
        "sentiment_data = preprocess(data_upsampled_sentiment)"
      ],
      "execution_count": null,
      "outputs": []
    },
    {
      "cell_type": "markdown",
      "metadata": {
        "id": "V46wPcyQSYdc"
      },
      "source": [
        "**Tokenize word**"
      ]
    },
    {
      "cell_type": "code",
      "metadata": {
        "id": "TJlTpKCvaf3s",
        "colab": {
          "base_uri": "https://localhost:8080/"
        },
        "outputId": "29c2a552-f090-4327-eec4-6c59e45ea69f"
      },
      "source": [
        "max_words = 5000\n",
        "max_len = 200\n",
        "\n",
        "data_sentiment = sentiment_data\n",
        "tokenizer_sentiment = Tokenizer(num_words=max_words)\n",
        "tokenizer_sentiment.fit_on_texts(data_sentiment)\n",
        "sequences_sentiment = tokenizer_sentiment.texts_to_sequences(data_sentiment)\n",
        "tweets_sentiment = pad_sequences(sequences_sentiment, maxlen=max_len)\n",
        "\n",
        "\n",
        "data_sarcasm = sarcasm_data\n",
        "tokenizer_sarcasm = Tokenizer(num_words=max_words)\n",
        "tokenizer_sarcasm.fit_on_texts(data_sarcasm)\n",
        "sequences_sarcasm = tokenizer_sarcasm.texts_to_sequences(data_sarcasm)\n",
        "tweets_sarcasm = pad_sequences(sequences_sarcasm, maxlen=max_len)\n",
        "\n",
        "tweets_sentiment, tweets_sarcasm"
      ],
      "execution_count": null,
      "outputs": [
        {
          "output_type": "execute_result",
          "data": {
            "text/plain": [
              "(array([[   0,    0,    0, ...,  137, 1201, 3132],\n",
              "        [   0,    0,    0, ...,    3,   58,  688],\n",
              "        [   0,    0,    0, ...,   65,   40,    2],\n",
              "        ...,\n",
              "        [   0,    0,    0, ...,  285,    7,  807],\n",
              "        [   0,    0,    0, ...,    2,  241,  241],\n",
              "        [   0,    0,    0, ...,    1,  680,  614]], dtype=int32),\n",
              " array([[   0,    0,    0, ...,  223, 2076,    9],\n",
              "        [   0,    0,    0, ...,    6, 3705, 2119],\n",
              "        [   0,    0,    0, ..., 1187,    8,  177],\n",
              "        ...,\n",
              "        [   0,    0,    0, ...,   65,   32,  117],\n",
              "        [   0,    0,    0, ...,  121,   24,  136],\n",
              "        [   0,    0,    0, ...,  300,   19,   77]], dtype=int32))"
            ]
          },
          "metadata": {
            "tags": []
          },
          "execution_count": 25
        }
      ]
    },
    {
      "cell_type": "markdown",
      "metadata": {
        "id": "b2SyfKhYSdgp"
      },
      "source": [
        "**Label encoding**"
      ]
    },
    {
      "cell_type": "code",
      "metadata": {
        "id": "bgh8zSOGaf3t",
        "colab": {
          "base_uri": "https://localhost:8080/"
        },
        "outputId": "cf771769-8a0d-4c94-b881-441c725e84fe"
      },
      "source": [
        "labels_sarcasm  = data_upsampled_sarcasm[['label']].values\n",
        "len(labels_sarcasm), len(tweets_sarcasm)"
      ],
      "execution_count": null,
      "outputs": [
        {
          "output_type": "execute_result",
          "data": {
            "text/plain": [
              "(54652, 54652)"
            ]
          },
          "metadata": {
            "tags": []
          },
          "execution_count": 26
        }
      ]
    },
    {
      "cell_type": "code",
      "metadata": {
        "colab": {
          "base_uri": "https://localhost:8080/"
        },
        "id": "oKQZ3mKayMiK",
        "outputId": "5f7923ad-ca59-47ad-ed3d-d5cdf0a8e199"
      },
      "source": [
        "#Label encoding\n",
        "\n",
        "labels_sentiment = np.array(data_upsampled_sentiment['label'])\n",
        "y = []\n",
        "for i in range(len(labels_sentiment)):\n",
        "    if labels_sentiment[i] == 0:\n",
        "        y.append(0)\n",
        "    if labels_sentiment[i] == -1:\n",
        "        y.append(1)\n",
        "    if labels_sentiment[i] == 1:\n",
        "        y.append(2)\n",
        "y = np.array(y)\n",
        "print(y)\n",
        "labels_sentiment = tf.keras.utils.to_categorical(y, 3, dtype=\"float32\")\n",
        "del y\n",
        "len(labels_sentiment)"
      ],
      "execution_count": null,
      "outputs": [
        {
          "output_type": "stream",
          "text": [
            "[2 2 2 ... 0 0 0]\n"
          ],
          "name": "stdout"
        },
        {
          "output_type": "execute_result",
          "data": {
            "text/plain": [
              "289986"
            ]
          },
          "metadata": {
            "tags": []
          },
          "execution_count": 27
        }
      ]
    },
    {
      "cell_type": "markdown",
      "metadata": {
        "id": "j0uyZ5n6Shlh"
      },
      "source": [
        "**Train_test_split**"
      ]
    },
    {
      "cell_type": "code",
      "metadata": {
        "id": "nLoclUo8af3t",
        "colab": {
          "base_uri": "https://localhost:8080/"
        },
        "outputId": "0377ae71-2ad3-4132-8486-bed40ceab7fb"
      },
      "source": [
        "#Splitting the data\n",
        "X_train_sarcasm, X_test_sarcasm, y_train_sarcasm, y_test_sarcasm = train_test_split(tweets_sarcasm,labels_sarcasm, test_size=0.1,random_state=1, shuffle = True)\n",
        "print (len(X_train_sarcasm),len(X_test_sarcasm),len(y_train_sarcasm),len(y_test_sarcasm))\n",
        "\n",
        "X_train_sentiment, X_test_sentiment, y_train_sentiment, y_test_sentiment = train_test_split(tweets_sentiment,labels_sentiment, test_size=0.1,random_state=1, shuffle = True)\n",
        "print (len(X_train_sentiment),len(X_test_sentiment),len(y_train_sentiment),len(y_test_sentiment))"
      ],
      "execution_count": null,
      "outputs": [
        {
          "output_type": "stream",
          "text": [
            "49186 5466 49186 5466\n",
            "260987 28999 260987 28999\n"
          ],
          "name": "stdout"
        }
      ]
    },
    {
      "cell_type": "code",
      "metadata": {
        "id": "UAhBzZnraf3u"
      },
      "source": [
        "EMBEDDING_FILE = '/content/drive/MyDrive/FYP/glove.twitter.27B.200d.txt'\n",
        "def get_coefs(word, *arr): \n",
        "    return word, np.asarray(arr, dtype='float32')\n",
        "embeddings_index = dict(get_coefs(*o.rstrip().rsplit(' ')) for o in open(EMBEDDING_FILE, encoding = 'utf8'))\n",
        "\n",
        "all_embs = np.stack(embeddings_index.values())\n",
        "emb_mean,emb_std = all_embs.mean(), all_embs.std()\n",
        "embed_size = all_embs.shape[1]\n",
        "\n",
        "#tokenizer = Tokenizer(num_words=max_words)\n",
        "word_index = tokenizer_sentiment.word_index\n",
        "nb_words = min(max_words, len(word_index))\n",
        "#change below line if computing normal stats is too slow\n",
        "embedding_matrix_sentiment = embedding_matrix_sentiment = np.random.normal(emb_mean, emb_std, (nb_words, embed_size))\n",
        "for word, i in word_index.items():\n",
        "    if i >= max_words: continue\n",
        "    embedding_vector = embeddings_index.get(word)\n",
        "    if embedding_vector is not None: embedding_matrix_sentiment[i-1] = embedding_vector"
      ],
      "execution_count": null,
      "outputs": []
    },
    {
      "cell_type": "code",
      "metadata": {
        "id": "V1ZWMQKaClAw"
      },
      "source": [
        "# EMBEDDING_FILE = '/content/drive/MyDrive/FYP/glove.twitter.27B.200d.txt'\n",
        "# def get_coefs(word, *arr): \n",
        "#     return word, np.asarray(arr, dtype='float32')\n",
        "# embeddings_index = dict(get_coefs(*o.rstrip().rsplit(' ')) for o in open(EMBEDDING_FILE, encoding = 'utf8'))\n",
        "\n",
        "all_embs = np.stack(embeddings_index.values())\n",
        "emb_mean,emb_std = all_embs.mean(), all_embs.std()\n",
        "embed_size = all_embs.shape[1]\n",
        "\n",
        "#tokenizer = Tokenizer(num_words=max_words)\n",
        "word_index = tokenizer_sarcasm.word_index\n",
        "nb_words = min(max_words, len(word_index))\n",
        "#change below line if computing normal stats is too slow\n",
        "embedding_matrix_sarcasm = embedding_matrix_sarcasm = np.random.normal(emb_mean, emb_std, (nb_words, embed_size))\n",
        "for word, i in word_index.items():\n",
        "    if i >= max_words: continue\n",
        "    embedding_vector = embeddings_index.get(word)\n",
        "    if embedding_vector is not None: embedding_matrix_sarcasm[i-1] = embedding_vector"
      ],
      "execution_count": null,
      "outputs": []
    },
    {
      "cell_type": "markdown",
      "metadata": {
        "id": "gofyySMcSml5"
      },
      "source": [
        "**Machine Learning Algorithm**"
      ]
    },
    {
      "cell_type": "code",
      "metadata": {
        "id": "PXmlvVrpaf3v"
      },
      "source": [
        "embedding_layer1 = layers.Embedding(nb_words, output_dim=200, input_length=max_len, weights = [embedding_matrix_sentiment], trainable = True)\n",
        "embedding_layer2 = layers.Embedding(nb_words, output_dim=200, input_length=max_len, weights = [embedding_matrix_sarcasm], trainable = True)\n",
        "#embedding_layer = layers.Embedding(max_words, output_dim=200, input_length=max_len)\n",
        "sequence_input1 = layers.Input(shape=(max_len,), name='sentiment_input')\n",
        "sequence_input2 = layers.Input(shape=(max_len,), name='sarcasm_input')\n",
        "embedded_sequences1 = embedding_layer1(sequence_input1)\n",
        "embedded_sequences2 = embedding_layer2(sequence_input2)\n",
        "\n",
        "#sentiment branch\n",
        "nn1 = layers.Bidirectional(layers.LSTM(units=20 , dropout = 0.6))(embedded_sequences1)\n",
        "nn1 = layers.Dense(256, activation=\"relu\")(nn1)\n",
        "nn1 = layers.Dropout(rate=0.4)(nn1)\n",
        "nn1 = layers.Dense(32, activation=\"relu\")(nn1)\n",
        "nn1 = layers.Dropout(rate=0.4)(nn1)\n",
        "\n",
        "#sarcasm branch\n",
        "nn2 = layers.Bidirectional(layers.LSTM(units=20 ,dropout = 0.6))(embedded_sequences2)\n",
        "nn2 = layers.Dense(256, activation=\"relu\")(nn2)\n",
        "nn2 = layers.Dropout(rate=0.4)(nn2)\n",
        "nn2 = layers.Dense(32, activation=\"relu\")(nn2)\n",
        "nn2 = layers.Dropout(rate=0.4)(nn2)"
      ],
      "execution_count": null,
      "outputs": []
    },
    {
      "cell_type": "code",
      "metadata": {
        "id": "SCEchwsgaf3v"
      },
      "source": [
        "sentiment_branch = layers.Dense(3, activation='softmax', name='sentiment_output')(nn1)\n",
        "sarcasm_branch = layers.Dense(1, activation='sigmoid', name='sarcasm_output')(nn2)"
      ],
      "execution_count": null,
      "outputs": []
    },
    {
      "cell_type": "code",
      "metadata": {
        "id": "8NHUxlaYaf3w",
        "colab": {
          "base_uri": "https://localhost:8080/"
        },
        "outputId": "1735ee3a-6854-4840-e959-6e9897fe1ce4"
      },
      "source": [
        "model = Model(inputs = [sequence_input1, sequence_input2], outputs = [sentiment_branch, sarcasm_branch])\n",
        "model.summary()"
      ],
      "execution_count": null,
      "outputs": [
        {
          "output_type": "stream",
          "text": [
            "Model: \"model\"\n",
            "__________________________________________________________________________________________________\n",
            "Layer (type)                    Output Shape         Param #     Connected to                     \n",
            "==================================================================================================\n",
            "sentiment_input (InputLayer)    [(None, 200)]        0                                            \n",
            "__________________________________________________________________________________________________\n",
            "sarcasm_input (InputLayer)      [(None, 200)]        0                                            \n",
            "__________________________________________________________________________________________________\n",
            "embedding (Embedding)           (None, 200, 200)     1000000     sentiment_input[0][0]            \n",
            "__________________________________________________________________________________________________\n",
            "embedding_1 (Embedding)         (None, 200, 200)     1000000     sarcasm_input[0][0]              \n",
            "__________________________________________________________________________________________________\n",
            "bidirectional (Bidirectional)   (None, 40)           35360       embedding[0][0]                  \n",
            "__________________________________________________________________________________________________\n",
            "bidirectional_1 (Bidirectional) (None, 40)           35360       embedding_1[0][0]                \n",
            "__________________________________________________________________________________________________\n",
            "dense (Dense)                   (None, 256)          10496       bidirectional[0][0]              \n",
            "__________________________________________________________________________________________________\n",
            "dense_2 (Dense)                 (None, 256)          10496       bidirectional_1[0][0]            \n",
            "__________________________________________________________________________________________________\n",
            "dropout (Dropout)               (None, 256)          0           dense[0][0]                      \n",
            "__________________________________________________________________________________________________\n",
            "dropout_2 (Dropout)             (None, 256)          0           dense_2[0][0]                    \n",
            "__________________________________________________________________________________________________\n",
            "dense_1 (Dense)                 (None, 32)           8224        dropout[0][0]                    \n",
            "__________________________________________________________________________________________________\n",
            "dense_3 (Dense)                 (None, 32)           8224        dropout_2[0][0]                  \n",
            "__________________________________________________________________________________________________\n",
            "dropout_1 (Dropout)             (None, 32)           0           dense_1[0][0]                    \n",
            "__________________________________________________________________________________________________\n",
            "dropout_3 (Dropout)             (None, 32)           0           dense_3[0][0]                    \n",
            "__________________________________________________________________________________________________\n",
            "sentiment_output (Dense)        (None, 3)            99          dropout_1[0][0]                  \n",
            "__________________________________________________________________________________________________\n",
            "sarcasm_output (Dense)          (None, 1)            33          dropout_3[0][0]                  \n",
            "==================================================================================================\n",
            "Total params: 2,108,292\n",
            "Trainable params: 2,108,292\n",
            "Non-trainable params: 0\n",
            "__________________________________________________________________________________________________\n"
          ],
          "name": "stdout"
        }
      ]
    },
    {
      "cell_type": "code",
      "metadata": {
        "id": "2A4cBUwDaf3x",
        "colab": {
          "base_uri": "https://localhost:8080/"
        },
        "outputId": "f5ddc1da-e2d3-4933-c16f-3a0ce475d217"
      },
      "source": [
        "opt = keras.optimizers.RMSprop(learning_rate=0.001)\n",
        "model.compile(optimizer=opt, loss={'sentiment_output':'categorical_crossentropy','sarcasm_output':'binary_crossentropy'}, metrics=['acc'])\n",
        "checkpoint2 = [ModelCheckpoint(\"/content/drive/MyDrive/FYP/weights/with_embedding(LSTM)1.hdf5\", monitor='val_sentiment_output_acc', verbose=1,save_best_only=True, mode='auto', period=1,save_weights_only=False)]"
      ],
      "execution_count": null,
      "outputs": [
        {
          "output_type": "stream",
          "text": [
            "WARNING:tensorflow:`period` argument is deprecated. Please use `save_freq` to specify the frequency in number of batches seen.\n"
          ],
          "name": "stdout"
        }
      ]
    },
    {
      "cell_type": "code",
      "metadata": {
        "id": "d-LJAu5Laf3x"
      },
      "source": [
        "class PlotProgress(keras.callbacks.Callback):\n",
        "    \n",
        "    def __init__(self, entity='loss'):\n",
        "        self.entity = entity\n",
        "        \n",
        "    def on_train_begin(self, logs={}):\n",
        "        self.i = 0\n",
        "        self.x = []\n",
        "        self.losses = []\n",
        "        self.val_losses = []\n",
        "        \n",
        "        self.fig = plt.figure()\n",
        "        \n",
        "        self.logs = []\n",
        "\n",
        "    def on_epoch_end(self, epoch, logs={}):\n",
        "        \n",
        "        self.logs.append(logs)\n",
        "        self.x.append(self.i)\n",
        "        self.losses.append(logs.get('{}'.format(self.entity)))\n",
        "        self.val_losses.append(logs.get('val_{}'.format(self.entity)))\n",
        "        self.i += 1\n",
        "        \n",
        "        clear_output(wait=True)\n",
        "        fig = plt.figure()\n",
        "        plt.plot(self.x, self.losses, label= 'training_loss', color = 'Black')\n",
        "        plt.plot(self.x, self.val_losses, label= 'validation_loss', ls = ':', color = 'Black')\n",
        "        plt.xlabel('Epoch')\n",
        "        plt.ylabel('Loss')\n",
        "        fig.patch.set_facecolor('white')\n",
        "        \n",
        "        #fig.patch.set_alpha(0.0)\n",
        "        plt.grid()\n",
        "        plt.legend()\n",
        "        plt.show();"
      ],
      "execution_count": null,
      "outputs": []
    },
    {
      "cell_type": "code",
      "metadata": {
        "id": "fGB3K2vPaf3x"
      },
      "source": [
        "plot_progress = PlotProgress(entity='loss')\n",
        "\n",
        "try:\n",
        "    model.fit({'sentiment_input': X_train_sentiment,'sarcasm_input':X_train_sarcasm},\n",
        "              {'sentiment_output': y_train_sentiment, 'sarcasm_output': y_train_sarcasm},\n",
        "              epochs=50,\n",
        "              batch_size=128,\n",
        "              verbose=1,\n",
        "              callbacks=[plot_progress, checkpoint2],\n",
        "              validation_split=0.2,\n",
        "             )\n",
        "except KeyboardInterrupt:\n",
        "    pass"
      ],
      "execution_count": null,
      "outputs": []
    },
    {
      "cell_type": "code",
      "source": [],
      "metadata": {
        "id": "ZGojIONw2R-Q"
      },
      "execution_count": null,
      "outputs": []
    }
  ]
}